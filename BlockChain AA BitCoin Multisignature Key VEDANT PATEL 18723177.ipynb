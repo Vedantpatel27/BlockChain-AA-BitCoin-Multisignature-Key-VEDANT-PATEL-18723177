{
 "cells": [
  {
   "cell_type": "code",
   "execution_count": 1,
   "metadata": {},
   "outputs": [
    {
     "name": "stdout",
     "output_type": "stream",
     "text": [
      "Collecting bitcoin\n",
      "  Using cached bitcoin-1.1.42.tar.gz (36 kB)\n",
      "  Preparing metadata (setup.py): started\n",
      "  Preparing metadata (setup.py): finished with status 'done'\n",
      "Building wheels for collected packages: bitcoin\n",
      "  Building wheel for bitcoin (setup.py): started\n",
      "  Building wheel for bitcoin (setup.py): finished with status 'done'\n",
      "  Created wheel for bitcoin: filename=bitcoin-1.1.42-py3-none-any.whl size=44408 sha256=ff95768dd9022682d3c99791c7cfa3df020f11cde02a9131252be30cd49716a0\n",
      "  Stored in directory: c:\\users\\patel\\appdata\\local\\pip\\cache\\wheels\\6e\\ec\\42\\9f41e8477dc909b93cc98d2a65b53f383bedd43ffd710a05d9\n",
      "Successfully built bitcoin\n",
      "Installing collected packages: bitcoin\n",
      "Successfully installed bitcoin-1.1.42\n",
      "Note: you may need to restart the kernel to use updated packages.\n"
     ]
    }
   ],
   "source": [
    "pip install bitcoin"
   ]
  },
  {
   "cell_type": "markdown",
   "metadata": {},
   "source": [
    "Collecting bitcoin\n",
    "  Downloading bitcoin-1.1.42.tar.gz (36 kB)\n",
    "Building wheels for collected packages: bitcoin\n",
    "  Building wheel for bitcoin (setup.py): startedNote: you may need to restart the kernel to use updated packages.\n",
    "  Building wheel for bitcoin (setup.py): finished with status 'done'\n",
    "  Created wheel for bitcoin: filename=bitcoin-1.1.42-py3-none-any.whl size=44415 sha256=d250c0d74804c9daa01218412c40b7c1a6ffe4bfba90c59c4de6670b9d3a0c40\n",
    "  Stored in directory: c:\\users\\gongh\\appdata\\local\\pip\\cache\\wheels\\2d\\12\\38\\7f9a9052a6b622b88ede09f2479471c3402312fafa03de7d88\n",
    "Successfully built bitcoin\n",
    "Installing collected packages: bitcoin\n",
    "Successfully installed bitcoin-1.1.42\n"
   ]
  },
  {
   "cell_type": "code",
   "execution_count": 2,
   "metadata": {},
   "outputs": [],
   "source": [
    "from bitcoin import *"
   ]
  },
  {
   "cell_type": "code",
   "execution_count": 3,
   "metadata": {},
   "outputs": [
    {
     "name": "stdout",
     "output_type": "stream",
     "text": [
      "Private Key: 9aed0af8e8740dd84b6fe6b198995607f236e375e1d894bc720d98513ffd1dce\n",
      "\n"
     ]
    }
   ],
   "source": [
    "my_private_key = random_key()\n",
    "print(\"Private Key: %s\\n\" % my_private_key)"
   ]
  },
  {
   "cell_type": "code",
   "execution_count": 4,
   "metadata": {},
   "outputs": [
    {
     "name": "stdout",
     "output_type": "stream",
     "text": [
      "Public Key: 0441929c5b509bd01ec6ce7048306fc09828fd573a60afbf71732d461eb92fe058715b74a3896d91b1329f98184707f8be53e49820fd5005e31d141206e2ac0ba3\n",
      "\n"
     ]
    }
   ],
   "source": [
    "my_public_key = privtopub(my_private_key)\n",
    "print(\"Public Key: %s\\n\" % my_public_key)"
   ]
  },
  {
   "cell_type": "code",
   "execution_count": 5,
   "metadata": {},
   "outputs": [
    {
     "name": "stdout",
     "output_type": "stream",
     "text": [
      "Bitcoin Address: 19UxyUgRJAbuZkzS4LVNL3qdPXmfYvherb\n",
      "\n"
     ]
    }
   ],
   "source": [
    "my_address = pubtoaddr(my_public_key)\n",
    "print(\"Bitcoin Address: %s\\n\" % my_address)"
   ]
  },
  {
   "cell_type": "code",
   "execution_count": 6,
   "metadata": {},
   "outputs": [],
   "source": [
    "private_KeyCEO = random_key()\n",
    "private_KeyAlice = random_key()\n",
    "private_KeyBob = random_key()\n",
    "private_KeyCoo = random_key()\n",
    "private_KeyCFO = random_key()"
   ]
  },
  {
   "cell_type": "code",
   "execution_count": 7,
   "metadata": {},
   "outputs": [],
   "source": [
    "public_KeyCEO = privtopub(private_KeyCEO)\n",
    "public_KeyAlice = privtopub(private_KeyAlice)\n",
    "public_KeyBob = privtopub(private_KeyBob)\n",
    "public_keyCoo = privtopub(private_KeyCoo)\n",
    "public_keyCFO = privtopub(private_KeyCFO)"
   ]
  },
  {
   "cell_type": "code",
   "execution_count": 8,
   "metadata": {},
   "outputs": [
    {
     "name": "stdout",
     "output_type": "stream",
     "text": [
      "My Multisignature Address: 3244KmFcJ4x7QVBqbaHnr17XNc9HbB8AwA\n",
      "\n"
     ]
    }
   ],
   "source": [
    "my_mulit_sig = mk_multisig_script(private_KeyCEO, private_KeyAlice,private_KeyBob, private_KeyCoo,private_KeyCFO,3,4,5)\n",
    "my_mulit_address = scriptaddr(my_mulit_sig)\n",
    "print(\"My Multisignature Address: %s\\n\" % my_mulit_address)"
   ]
  },
  {
   "cell_type": "code",
   "execution_count": 9,
   "metadata": {},
   "outputs": [
    {
     "name": "stdout",
     "output_type": "stream",
     "text": [
      "[{'address': '1KokfmiMAkpnqDTt3aKVkrEf6Hsagpbz8B', 'value': 471797, 'output': '0b9b3e874638d8cbce4ff5fad651d740d6f5b9cee9503be9495a45b801f48bec:0', 'block_height': 668363, 'spend': '27815390ad05b8a49bc15ec364e0e320bab21aa5c46a6c5b2b79ac4c0ae9cbc1:4'}]\n"
     ]
    }
   ],
   "source": [
    "valid_address = '1KokfmiMAkpnqDTt3aKVkrEf6Hsagpbz8B'\n",
    "print(history(valid_address))"
   ]
  },
  {
   "cell_type": "code",
   "execution_count": null,
   "metadata": {},
   "outputs": [],
   "source": []
  }
 ],
 "metadata": {
  "kernelspec": {
   "display_name": "Python 3 (ipykernel)",
   "language": "python",
   "name": "python3"
  },
  "language_info": {
   "codemirror_mode": {
    "name": "ipython",
    "version": 3
   },
   "file_extension": ".py",
   "mimetype": "text/x-python",
   "name": "python",
   "nbconvert_exporter": "python",
   "pygments_lexer": "ipython3",
   "version": "3.9.13"
  }
 },
 "nbformat": 4,
 "nbformat_minor": 2
}
